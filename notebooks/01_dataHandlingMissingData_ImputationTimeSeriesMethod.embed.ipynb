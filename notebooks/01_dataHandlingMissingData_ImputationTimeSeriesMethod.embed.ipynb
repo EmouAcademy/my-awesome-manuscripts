{
 "cells": [
  {
   "cell_type": "markdown",
   "metadata": {},
   "source": [
    "# \n",
    "\n",
    "# Workflow for the data mining, filling and examining procedure"
   ],
   "id": "f44629c3-90f1-4e34-b3e1-12084520429f"
  },
  {
   "cell_type": "code",
   "execution_count": null,
   "metadata": {
    "layout-align": "default"
   },
   "outputs": [
    {
     "output_type": "display_data",
     "metadata": {},
     "data": {
      "text/html": [
       "<pre class=\"mermaid mermaid-js\">sequenceDiagram\n",
       "    box 1. Data Mining\n",
       "    participant spikes\n",
       "    participant technical Error\n",
       "    end\n",
       "    box 2. Data Filling\n",
       "    participant small Gaps\n",
       "    participant big Gaps\n",
       "    end\n",
       "    box 3. Data Quality Examing\n",
       "    participant PM10\n",
       "    participant PM2.5\n",
       "    end\n",
       "    loop Spikecheck and technical error\n",
       "        spikes-&gt;spikes: Detect spikes: pm10 and pm2.5 &gt; 7 mg/m3\n",
       "        technical Error-&gt;technical Error: Whether mistakenly pm10&lt;pm2.5\n",
       "    end\n",
       "    loop check 3-hour max gaps\n",
       "        small Gaps-&gt;small Gaps: Fill with the imputeTS package\n",
       "    end\n",
       "    Note right of small Gaps: For the package univariation,  &lt;br/&gt; we used log function.\n",
       "    loop Fill large gaps\n",
       "    big Gaps-&gt;big Gaps: MTSDI method\n",
       "    end\n",
       "    Note right of big Gaps: uses  &lt;br/&gt;ARIMA(p,d,q)\n",
       "    PM10-&gt;PM2.5: plot(PM10,PM2.5)\n",
       "</pre>"
      ]
     }
    }
   ],
   "source": [],
   "id": "aeac0f69-347a-4ea4-b23b-e16fcdcb4b77"
  },
  {
   "cell_type": "markdown",
   "metadata": {},
   "source": [
    "## Data mining\n",
    "\n",
    "Missing data We examined the PM data quality, and removed spikes those are above 7 , and when PM10,,. Due to electricity shortage and equipment malfunctions contributed to the bad data, and missing data. In Sainshand station, … was … Each stations has some features, we treated each stations separately to remove suspective data.\n",
    "\n",
    "## Data filling\n",
    "\n",
    "Missing data handling with the statistical packages At last, we filled the missing data with 3-hour maxgaps with imputeTS package for univariate time series, and larger gaps using mtsdi R package (well-used for time-series data), and improved the missing data percents by… from … to … Additionally, meteorological parameters such as wind speed, direction, and visibility are integrated into the analysis to elucidate their impact on PM levels.\n",
    "\n",
    "The MTSDI method (Junger, Santos, and Ponce de Leon (2003), Junger and Leon (2012)) uses the EM algorithm with the Autoregressive Integrated Moving Average (ARIMA) method, also known as Box–Jenkins model (Box et al. (2015), Meyler, Kenny, and Quinn (1998)). The data provided by ARIMA (p, d, q) depend on the number of autoregressive terms (p), the number of differences (d), and the number of terms in the moving average (q) (Meyler, Kenny, and Quinn (1998)). Default configuration was used. The mtdsi method is widely used to impute missing data like in cosmic data Fernandes, Lucio, and Fernandez (2017). Similar multiple imputation methods have been applied for multivariate solar data Zhang et al. (2020), highly univariate seasonal data even with the large amount of missing data Chaudhry et al. (2019), missin data imputation and modeling for leaching processes He et al. (2017). Recently, Motesaddi Zarandi et al. (2022) used the mtdsi method to imputing missing data air pollution in Tehran (We used the complete data of temperature (°C), relative humidity (RH) (%), wind speed (m/s), barometric pressure (BP) (mbar), PM10, PM2.5, NO2, CO, and CVD variables to impute SO2 and O3 with the mtdsi R package.).\n",
    "\n",
    "## Data quality examining"
   ],
   "id": "f94b90d2-d96a-4046-9ca9-433ec6c36db5"
  }
 ],
 "nbformat": 4,
 "nbformat_minor": 5,
 "metadata": {}
}
