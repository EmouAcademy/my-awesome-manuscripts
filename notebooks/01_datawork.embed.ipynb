{
 "cells": [
  {
   "cell_type": "markdown",
   "metadata": {},
   "source": [
    "# 01_datawork\n",
    "\n",
    "Munkhtsetseg\n",
    "\n",
    "Library"
   ],
   "id": "f35a84c0-423e-4e48-bb71-ee0c707df98c"
  },
  {
   "cell_type": "code",
   "execution_count": null,
   "metadata": {},
   "outputs": [
    {
     "output_type": "stream",
     "name": "stderr",
     "text": [
      "── Attaching core tidyverse packages ──────────────────────── tidyverse 2.0.0 ──\n",
      "✔ dplyr     1.1.4     ✔ readr     2.1.4\n",
      "✔ forcats   1.0.0     ✔ stringr   1.5.1\n",
      "✔ ggplot2   3.4.4     ✔ tibble    3.2.1\n",
      "✔ lubridate 1.9.3     ✔ tidyr     1.3.0\n",
      "✔ purrr     1.0.2     \n",
      "── Conflicts ────────────────────────────────────────── tidyverse_conflicts() ──\n",
      "✖ dplyr::filter() masks stats::filter()\n",
      "✖ dplyr::lag()    masks stats::lag()\n",
      "ℹ Use the conflicted package (<http://conflicted.r-lib.org/>) to force all conflicts to become errors"
     ]
    }
   ],
   "source": [
    "library(tidyverse)"
   ],
   "id": "ff6beceb-26d9-4e4a-8cbc-769993cfd746"
  },
  {
   "cell_type": "markdown",
   "metadata": {},
   "source": [
    "# Import the dataset and remove the duplicates\n",
    "\n",
    "Import the dataset from the directory of: ~/Data Input/Preprocessing data/Preprocessing data.csv, assign the dataset as object of df:"
   ],
   "id": "46e8bf6a-8d23-4fe7-83b0-f6d054bd0327"
  },
  {
   "cell_type": "code",
   "execution_count": null,
   "metadata": {},
   "outputs": [],
   "source": [
    "df <- read.csv(\"~/Data Input/Preprocessing data/Preprocessing data.csv\")"
   ],
   "id": "f3a47da8-abdd-4315-b4ba-1a1775cc914d"
  },
  {
   "cell_type": "markdown",
   "metadata": {},
   "source": [
    "Remove the duplicates with the function of distinct(), assign the dataset as df_01:"
   ],
   "id": "25327ebf-a06f-4ac5-aa6d-faa8def5c625"
  },
  {
   "cell_type": "code",
   "execution_count": null,
   "metadata": {},
   "outputs": [],
   "source": [
    "df_00 <- df |>\n",
    "  distinct()"
   ],
   "id": "c37d56b5-a6a5-4d0e-9fc1-cd51d164e413"
  },
  {
   "cell_type": "markdown",
   "metadata": {},
   "source": [
    "## Produce a table with missing data"
   ],
   "id": "5abc396c-34b3-4d77-a926-8eedd3916c86"
  },
  {
   "cell_type": "code",
   "execution_count": null,
   "metadata": {},
   "outputs": [],
   "source": [
    "df_000 <- df_00 |>\n",
    "   filter(Year<2019 & Year >2008)\n",
    "\n",
    "\n",
    "\n",
    "df_01 <- df_000 |>\n",
    "   select(Year, Month, Day, Hour, PM2, PM10, Visibility, WD, WS,   OPC, Station.name, Date) |>\n",
    "  rowwise() |>\n",
    "filter((Year != 2019 & Station.name == \"Zamynuud\") | \n",
    "       (Year < 2016 & Station.name == \"Sainshand\") |\n",
    "       (Year < 2021 & Station.name == \"UB\") |\n",
    "       (Year < 2017 & Station.name == \"Dalanzadgad\")\n",
    "       )"
   ],
   "id": "8cc7f193-9648-4d46-ae9d-b68ea6651f46"
  },
  {
   "cell_type": "markdown",
   "metadata": {},
   "source": [
    "For date options as year, month, etc:"
   ],
   "id": "44bd1f51-0ec8-4b0c-ae44-8bdd1840f439"
  },
  {
   "cell_type": "code",
   "execution_count": null,
   "metadata": {},
   "outputs": [
    {
     "output_type": "stream",
     "name": "stderr",
     "text": [
      "`summarise()` has grouped output by 'Station.name'. You can override using the\n",
      "`.groups` argument."
     ]
    },
    {
     "output_type": "stream",
     "name": "stdout",
     "text": [
      "# A tibble: 35 × 9\n",
      "# Groups:   Station.name [4]\n",
      "   Station.name  Year NA_date NA_PM2 NA_PM10 NA_Vis NA_WD NA_WS NA_OPC\n",
      "   <chr>        <int>   <int>  <int>   <int>  <int> <int> <int>  <int>\n",
      " 1 Dalanzadgad   2009    8760    715     929    659   748   748   8760\n",
      " 2 Dalanzadgad   2010    8784    921    1086    756   787   787   8784\n",
      " 3 Dalanzadgad   2011    8760   2652    3309   1759  2394  2394   8760\n",
      " 4 Dalanzadgad   2012    5088   1074    3016    693  1412  1412   5088\n",
      " 5 Dalanzadgad   2013    6096   1766    1809   2479  1240  1240   6096\n",
      " 6 Dalanzadgad   2014    7800    843     921   6068  1482  1482   7800\n",
      " 7 Dalanzadgad   2015    8760   1539    1587   8115  2635  2635   8760\n",
      " 8 Dalanzadgad   2016    6288   1654    1613   5995  3306  3306   6288\n",
      " 9 Sainshand     2009    8688    376     424    423   587   587   8688\n",
      "10 Sainshand     2010    8784   2557    2577   1113  1210  1210   8784\n",
      "# ℹ 25 more rows"
     ]
    }
   ],
   "source": [
    "Table_NA_by_Year <- df_01 |>\n",
    "  group_by(Station.name,Year) |> \n",
    "  summarise(NA_date = sum(!is.na(Date)),\n",
    "            NA_PM2 = sum(is.na(PM2)),\n",
    "            NA_PM10 = sum(is.na(PM10)),\n",
    "            NA_Vis = sum(is.na(Visibility)),\n",
    "            NA_WD = sum(is.na(WD)),\n",
    "            NA_WS = sum(is.na(WS)),\n",
    "            NA_OPC = sum(is.na(OPC))\n",
    "            ) "
   ],
   "id": "ed3796fc-da30-401e-9801-ca9e5280faed"
  },
  {
   "cell_type": "markdown",
   "metadata": {},
   "source": [
    "For station"
   ],
   "id": "416c740e-0a19-45d2-8458-4e9ca7f68630"
  },
  {
   "cell_type": "code",
   "execution_count": null,
   "metadata": {},
   "outputs": [
    {
     "output_type": "stream",
     "name": "stdout",
     "text": [
      "# A tibble: 4 × 8\n",
      "  Station.name NA_date NA_PM2 NA_PM10 NA_Vis NA_WD NA_WS NA_OPC\n",
      "  <chr>          <int>  <int>   <int>  <int> <int> <int>  <int>\n",
      "1 Dalanzadgad    60336  11164   14270  26524 14004 14004  60336\n",
      "2 Sainshand      59040  11727   11929   9320  8527  8527  59040\n",
      "3 UB             76656   7879    8716   3770  4053  4053  43415\n",
      "4 Zamynuud       67392   8880   10075   3444  4960  4960  67392"
     ]
    }
   ],
   "source": [
    "Table_NA_by_Station <- df_01 |>\n",
    "  group_by(Station.name) |> \n",
    "  summarise(NA_date = sum(!is.na(Date)),\n",
    "            NA_PM2 = sum(is.na(PM2)),\n",
    "            NA_PM10 = sum(is.na(PM10)),\n",
    "            NA_Vis = sum(is.na(Visibility)),\n",
    "            NA_WD = sum(is.na(WD)),\n",
    "            NA_WS = sum(is.na(WS)),\n",
    "            NA_OPC = sum(is.na(OPC))\n",
    "  ) \n",
    "Table_NA_by_Station"
   ],
   "id": "27611194-f3ed-49cc-8e90-1aff8e42199a"
  },
  {
   "cell_type": "markdown",
   "metadata": {},
   "source": [
    "By percentages"
   ],
   "id": "52d8761e-6f78-45e3-8fd8-eccea4e550b5"
  },
  {
   "cell_type": "code",
   "execution_count": null,
   "metadata": {},
   "outputs": [
    {
     "output_type": "stream",
     "name": "stderr",
     "text": [
      "`summarise()` has grouped output by 'Station.name'. You can override using the\n",
      "`.groups` argument."
     ]
    },
    {
     "output_type": "stream",
     "name": "stdout",
     "text": [
      "# A tibble: 4 × 6\n",
      "# Groups:   Station.name [4]\n",
      "  Station.name missing_PM2 missing_PM10 missing_Vis missing_WS missing_WD\n",
      "  <chr>              <dbl>        <dbl>       <dbl>      <dbl>      <dbl>\n",
      "1 Dalanzadgad         25.7         19.2       44.5       24.3       24.3 \n",
      "2 Sainshand           20.0         19.7       15.7       14.6       14.6 \n",
      "3 UB                  11.9         11.0        4.53       4.85       4.85\n",
      "4 Zamynuud            14.4         12.7        5.49       7.44       7.44"
     ]
    }
   ],
   "source": [
    "Table_NA_by_Station_percentage <- df_01 |>\n",
    "  group_by(Station.name, Year) |> \n",
    "  summarise(NA_date = sum(!is.na(Date)),\n",
    "            NA_PM2 = sum(is.na(PM2)),\n",
    "            NA_PM10 = sum(is.na(PM10)),\n",
    "            NA_Vis = sum(is.na(Visibility)),\n",
    "            NA_WD = sum(is.na(WD)),\n",
    "            NA_WS = sum(is.na(WS)),\n",
    "            NA_OPC = sum(is.na(OPC))\n",
    "  ) |> \n",
    "  mutate(\n",
    "            NA_PM2p = if_else(NA_date != NA_PM2, NA_PM2/NA_date*100, 0)\n",
    "  ) |>\n",
    "  do({\n",
    "    PM10_perc <- .$NA_PM2*100/.$NA_date; \n",
    "      missing_PM10 <-mean(PM10_perc); \n",
    "      attr(missing_PM10, \"data.all\") <- PM10_perc; \n",
    "    PM2_perc <- .$NA_PM10*100/.$NA_date; \n",
    "      missing_PM2 <- mean(PM2_perc); \n",
    "      attr(missing_PM2, \"data.all\") <- PM2_perc;\n",
    "    Vis_perc <- .$NA_Vis*100/.$NA_date; \n",
    "      missing_Vis <- mean(Vis_perc); \n",
    "      attr(missing_Vis, \"data.all\") <- Vis_perc; \n",
    "    WS_perc <- .$NA_WS*100/.$NA_date; \n",
    "      missing_WS <- mean(WS_perc); \n",
    "      attr(missing_WS, \"data.all\") <- WS_perc; \n",
    "    WD_perc <- .$NA_WD*100/.$NA_date; \n",
    "      missing_WD <- mean(WD_perc); \n",
    "      attr(missing_WD, \"data.all\") <- WD_perc; \n",
    "  data.frame(missing_PM2, missing_PM10, missing_Vis, missing_WS, missing_WD)}) "
   ],
   "id": "ed2e9bcd-1b73-41fd-9c8f-6d4259846cdc"
  },
  {
   "cell_type": "markdown",
   "metadata": {},
   "source": [
    "# Note that:\n",
    "\n",
    "We use the data in the period of 2009-2018, which has been regarded as a monitoring work stabilized since 2008 when is the beginning of the monitoring. According to NIES, site maintenance was consistent up to 2018. - Sainshand site, data 2009-2015 get used; - Dalanzad site: 2009-2016. - UB: 2009-2018 - Zamyn uud: 2009-2018\n",
    "\n",
    "# Remove the spikes, and produce an extended table\n",
    "\n",
    "Remove the spikes in the datasets, and produce the table with NA, with removed spikes; express it in a percentages. \\### Remove the spikes Method 1. Mean value +- (3-5)SD - Find Monthly mean"
   ],
   "id": "7d615b03-ee33-4e96-934e-c8cab0ab3620"
  },
  {
   "cell_type": "code",
   "execution_count": null,
   "metadata": {},
   "outputs": [
    {
     "output_type": "stream",
     "name": "stdout",
     "text": [
      "# A tibble: 1,798 × 12\n",
      "    Year Month   Day  Hour PM2   PM10  Visibility    WD    WS   OPC Station.name\n",
      "   <int> <int> <int> <int> <chr> <chr>      <int> <int> <dbl> <int> <chr>       \n",
      " 1  2009     1     2    17 Outl… 0.29        3622   141 0.524    NA UB          \n",
      " 2  2009     1     3    12 Outl… 0.446       2399   109 0.117    NA UB          \n",
      " 3  2009     1     3    13 Outl… 0.288       1347    17 0.492    NA UB          \n",
      " 4  2009     1     3    14 Outl… 0.504       1241    12 0.829    NA UB          \n",
      " 5  2009     1     3    15 Outl… 0.478       1341    11 0.39     NA UB          \n",
      " 6  2009     1     3    16 Outl… 0.449       2945   136 0.123    NA UB          \n",
      " 7  2009     1     3    18 Outl… 0.341       1436    13 0.742    NA UB          \n",
      " 8  2009     1     3    19 Outl… 0.397       1847    13 0.453    NA UB          \n",
      " 9  2009     1     3    20 Outl… 0.297       3359    22 0.462    NA UB          \n",
      "10  2009     1     4     2 Outl… 0.311       3167    96 0.759    NA UB          \n",
      "# ℹ 1,788 more rows\n",
      "# ℹ 1 more variable: Date <chr>"
     ]
    }
   ],
   "source": [
    "df_02 <- df_01 |>\n",
    "  filter(Station.name==\"UB\" ) |>\n",
    "  drop_na(PM2, PM10) |>\n",
    "    dplyr::mutate_at(vars(PM2, PM10), \n",
    "                   ~ ifelse(near(., mean(.), sd(.) * 3), ., \"Outlier\")) |>\n",
    "  dplyr::filter_if(is.character, any_vars(. == \"Outlier\"))\n",
    "df_02"
   ],
   "id": "fd99a90e-b35f-444e-9266-0647e467854f"
  },
  {
   "cell_type": "code",
   "execution_count": null,
   "metadata": {},
   "outputs": [
    {
     "output_type": "stream",
     "name": "stdout",
     "text": [
      "# A tibble: 4,014 × 12\n",
      "    Year Month   Day  Hour PM2   PM10  Visibility    WD    WS   OPC Station.name\n",
      "   <int> <int> <int> <int> <chr> <chr>      <int> <int> <dbl> <int> <chr>       \n",
      " 1  2009     1     3    15 Outl… 0.292       3444   119 0.856    NA Dalanzadgad \n",
      " 2  2009     1     5    13 Outl… 0.419       1383   260 1.7      NA Dalanzadgad \n",
      " 3  2009     1     5    14 Outl… 0.415       1072   266 1.84     NA Dalanzadgad \n",
      " 4  2009     1     5    15 Outl… 0.466       1099   261 0.83     NA Dalanzadgad \n",
      " 5  2009     1     5    16 Outl… 0.509       1814   260 0.788    NA Dalanzadgad \n",
      " 6  2009     1     6     0 Outl… 0.547        744   248 1.23     NA Dalanzadgad \n",
      " 7  2009     1     6     1 Outl… 0.728       1093   277 0.738    NA Dalanzadgad \n",
      " 8  2009     1     6     2 Outl… 0.597       1723     0 1.62     NA Dalanzadgad \n",
      " 9  2009     1     6     3 Outl… 0.33        8186    95 1.1      NA Dalanzadgad \n",
      "10  2009     1     6    11 Outl… 0.39        1150   258 1.48     NA Dalanzadgad \n",
      "# ℹ 4,004 more rows\n",
      "# ℹ 1 more variable: Date <chr>"
     ]
    }
   ],
   "source": [
    "df_02 <- df_01 |>\n",
    "  drop_na(PM2, PM10) |>\n",
    "    dplyr::mutate_at(vars(PM2, PM10), \n",
    "                   ~ ifelse(near(., mean(., .by = c(Station.name, Month)), sd(.) * 3), ., \"Outlier\")) |>\n",
    "  dplyr::filter_if(is.character, any_vars(. == \"Outlier\"))\n",
    "df_02"
   ],
   "id": "760da2a9-67df-46da-a182-a8b7eca76aac"
  },
  {
   "cell_type": "markdown",
   "metadata": {},
   "source": [
    "## Save dataset in folder: 01_data_raw\n",
    "\n",
    "# Tidy data\n",
    "\n",
    "## Fill the missing data\n",
    "\n",
    "Method 1. Fill the gap Method 2. Relationship equation Method 3. Look-up table\n",
    "\n",
    "## Save dataset in folder: 02_data_tidy"
   ],
   "id": "3fcc4480-a2bd-4375-8931-f26b82e1282a"
  }
 ],
 "nbformat": 4,
 "nbformat_minor": 5,
 "metadata": {}
}
