{
 "cells": [
  {
   "cell_type": "markdown",
   "metadata": {},
   "source": [
    "# 01_datawork\n",
    "\n",
    "Munkhtsetseg\n",
    "\n",
    "Library"
   ],
   "id": "e01425c9-38c6-4653-9b9b-4f608484f9be"
  },
  {
   "cell_type": "code",
   "execution_count": null,
   "metadata": {},
   "outputs": [
    {
     "output_type": "stream",
     "name": "stderr",
     "text": [
      "── Attaching core tidyverse packages ──────────────────────── tidyverse 2.0.0 ──\n",
      "✔ dplyr     1.1.4     ✔ readr     2.1.4\n",
      "✔ forcats   1.0.0     ✔ stringr   1.5.1\n",
      "✔ ggplot2   3.4.4     ✔ tibble    3.2.1\n",
      "✔ lubridate 1.9.3     ✔ tidyr     1.3.0\n",
      "✔ purrr     1.0.2     \n",
      "── Conflicts ────────────────────────────────────────── tidyverse_conflicts() ──\n",
      "✖ dplyr::filter() masks stats::filter()\n",
      "✖ dplyr::lag()    masks stats::lag()\n",
      "ℹ Use the conflicted package (<http://conflicted.r-lib.org/>) to force all conflicts to become errors"
     ]
    }
   ],
   "source": [
    "library(tidyverse)\n"
   ],
   "id": "eb9d978d-5f12-4efd-a6a4-3ff1981aa134"
  },
  {
   "cell_type": "markdown",
   "metadata": {},
   "source": [
    "# Import the dataset and remove the duplicates\n",
    "\n",
    "Import the dataset from the directory of: ~/Data Input/Preprocessing data/Preprocessing data.csv, assign the dataset as object of df:"
   ],
   "id": "6616db3d-323e-4a61-9f9d-1845ea8f996a"
  },
  {
   "cell_type": "code",
   "execution_count": null,
   "metadata": {},
   "outputs": [],
   "source": [
    "df <- read.csv(\"~/Data Input/Preprocessing data/Preprocessing data.csv\")\n"
   ],
   "id": "7e39a270-566e-4fa0-9161-cc822b1aedd5"
  },
  {
   "cell_type": "markdown",
   "metadata": {},
   "source": [
    "Remove the duplicates with the function of distinct(), assign the dataset as df_01:"
   ],
   "id": "e2d5221f-0d8f-450b-803d-4edf3dd843bb"
  },
  {
   "cell_type": "code",
   "execution_count": null,
   "metadata": {},
   "outputs": [],
   "source": [
    "df_01 <- df %>%\n",
    "  distinct()\n"
   ],
   "id": "8c7eaeb3-8a20-419c-bebf-d8cbcbc8e530"
  },
  {
   "cell_type": "markdown",
   "metadata": {},
   "source": [
    "## Produce a table with missing data\n",
    "\n",
    "For date options as year, month, etc:"
   ],
   "id": "498cd606-06b6-4243-bc3b-6a2ed439e741"
  },
  {
   "cell_type": "code",
   "execution_count": null,
   "metadata": {},
   "outputs": [
    {
     "output_type": "stream",
     "name": "stderr",
     "text": [
      "`summarise()` has grouped output by 'Station.name'. You can override using the\n",
      "`.groups` argument."
     ]
    },
    {
     "output_type": "stream",
     "name": "stdout",
     "text": [
      "# A tibble: 52 × 9\n",
      "# Groups:   Station.name [4]\n",
      "   Station.name  Year NA_date NA_PM2 NA_PM10 NA_Vis NA_WD NA_WS NA_OPC\n",
      "   <chr>        <int>   <int>  <int>   <int>  <int> <int> <int>  <int>\n",
      " 1 Dalanzadgad   2008    4630   1543    1672   1463  1566  1566   4630\n",
      " 2 Dalanzadgad   2009    8760    715     929    659   748   748   8760\n",
      " 3 Dalanzadgad   2010    8784    921    1086    756   787   787   8784\n",
      " 4 Dalanzadgad   2011    8760   2652    3309   1759  2394  2394   8760\n",
      " 5 Dalanzadgad   2012    5088   1074    3016    693  1412  1412   5088\n",
      " 6 Dalanzadgad   2013    6096   1766    1809   2479  1240  1240   6096\n",
      " 7 Dalanzadgad   2014    7800    843     921   6068  1482  1482   7800\n",
      " 8 Dalanzadgad   2015    8760   1539    1587   8115  2635  2635   8760\n",
      " 9 Dalanzadgad   2016    6288   1654    1613   5995  3306  3306   6288\n",
      "10 Dalanzadgad   2017    3264     36      45   3264  3264  3264   3264\n",
      "# ℹ 42 more rows"
     ]
    }
   ],
   "source": [
    "Table_NA_by_Year <- df_01 %>%\n",
    "  rowwise %>%\n",
    "  group_by(Station.name,Year) %>% \n",
    "  summarise(NA_date = sum(!is.na(Date)),\n",
    "            NA_PM2 = sum(is.na(PM2)),\n",
    "            NA_PM10 = sum(is.na(PM10)),\n",
    "            NA_Vis = sum(is.na(Visibility)),\n",
    "            NA_WD = sum(is.na(WD)),\n",
    "            NA_WS = sum(is.na(WS)),\n",
    "            NA_OPC = sum(is.na(OPC))\n",
    "            ) \n"
   ],
   "id": "bcdacb13-e82d-4ea7-9b81-4760a7c78c7c"
  },
  {
   "cell_type": "markdown",
   "metadata": {},
   "source": [
    "For station"
   ],
   "id": "d98c2d58-efc1-404f-98dd-69aab6c8d228"
  },
  {
   "cell_type": "code",
   "execution_count": null,
   "metadata": {},
   "outputs": [
    {
     "output_type": "stream",
     "name": "stdout",
     "text": [
      "# A tibble: 4 × 8\n",
      "  Station.name NA_date NA_PM2 NA_PM10 NA_Vis NA_WD NA_WS NA_OPC\n",
      "  <chr>          <int>  <int>   <int>  <int> <int> <int>  <int>\n",
      "1 Dalanzadgad    69454  13081   16327  32475 20058 20058  69454\n",
      "2 Sainshand     101230  27588   36117  28986 13768 13768 101230\n",
      "3 UB             95662   7895    8785   3775  4121  4121  62421\n",
      "4 Zamynuud       99742  32281   33597  22525  5373  5373  99742"
     ]
    }
   ],
   "source": [
    "Table_NA_by_Station <- df_01 %>%\n",
    "  rowwise %>%\n",
    "  group_by(Station.name) %>% \n",
    "  summarise(NA_date = sum(!is.na(Date)),\n",
    "            NA_PM2 = sum(is.na(PM2)),\n",
    "            NA_PM10 = sum(is.na(PM10)),\n",
    "            NA_Vis = sum(is.na(Visibility)),\n",
    "            NA_WD = sum(is.na(WD)),\n",
    "            NA_WS = sum(is.na(WS)),\n",
    "            NA_OPC = sum(is.na(OPC))\n",
    "  ) \n",
    "Table_NA_by_Station\n"
   ],
   "id": "56730c2a-09db-4eb1-a3bd-e5a7f47cb971"
  },
  {
   "cell_type": "markdown",
   "metadata": {},
   "source": [
    "By percentages"
   ],
   "id": "759f2a16-d090-41d6-9154-42063865aad0"
  },
  {
   "cell_type": "code",
   "execution_count": null,
   "metadata": {},
   "outputs": [
    {
     "output_type": "stream",
     "name": "stderr",
     "text": [
      "`summarise()` has grouped output by 'Station.name'. You can override using the\n",
      "`.groups` argument."
     ]
    },
    {
     "output_type": "stream",
     "name": "stdout",
     "text": [
      "# A tibble: 4 × 2\n",
      "# Groups:   Station.name [4]\n",
      "  Station.name   sdq\n",
      "  <chr>        <dbl>\n",
      "1 Dalanzadgad   10.7\n",
      "2 Sainshand     25.9\n",
      "3 UB            17.9\n",
      "4 Zamynuud      39.6"
     ]
    }
   ],
   "source": [
    "Table_NA_by_Station_percentage <- df_01 %>%\n",
    "  rowwise %>%\n",
    "  group_by(Station.name, Year) %>% \n",
    "  summarise(NA_date = sum(!is.na(Date)),\n",
    "            NA_PM2 = sum(is.na(PM2)),\n",
    "            NA_PM10 = sum(is.na(PM10)),\n",
    "            NA_Vis = sum(is.na(Visibility)),\n",
    "            NA_WD = sum(is.na(WD)),\n",
    "            NA_WS = sum(is.na(WS)),\n",
    "            NA_OPC = sum(is.na(OPC))\n",
    "  ) %>% \n",
    "  mutate(\n",
    "            NA_PM2p = if_else(NA_date != NA_PM2, NA_PM2/NA_date*100, 0)\n",
    "  ) %>%\n",
    "  do({q <- .$NA_PM2*100/.$NA_date; sdq <- sd(q); attr(sdq, \"data.all\") <- q; data.frame(sdq)}) \n"
   ],
   "id": "af788f8a-0e53-4aa7-8cfd-55dc3592ec1a"
  },
  {
   "cell_type": "markdown",
   "metadata": {},
   "source": [
    "Note that the `echo = FALSE` parameter was added to the code chunk to prevent printing of the R code that generated the plot.\n",
    "\n",
    "# Remove the spikes, and produce an extended table\n",
    "\n",
    "Remove the spikes in the datasets, and produce the table with NA, with removed spikes; express it in a percentages.\n",
    "\n",
    "### Remove the spikes Method 1. Mean value +- (3-5)SD\n",
    "\n",
    "Method 2. Seasonal variations, and trend-mean\n",
    "\n",
    "## Save dataset in folder: 01_data_raw\n",
    "\n",
    "# Tidy data\n",
    "\n",
    "## Fill the missing data\n",
    "\n",
    "Method 1. Fill the gap Method 2. Relationship equation Method 3. Look-up table\n",
    "\n",
    "## Save dataset in folder: 02_data_tidy"
   ],
   "id": "a23ca8bb-bf63-4798-b5ec-512e219265b8"
  }
 ],
 "nbformat": 4,
 "nbformat_minor": 5,
 "metadata": {}
}
